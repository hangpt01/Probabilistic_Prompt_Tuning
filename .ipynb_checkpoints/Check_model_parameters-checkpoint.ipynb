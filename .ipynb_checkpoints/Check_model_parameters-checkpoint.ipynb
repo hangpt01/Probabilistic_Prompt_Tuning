{
 "cells": [
  {
   "cell_type": "code",
   "execution_count": 1,
   "id": "f4573b8c",
   "metadata": {},
   "outputs": [],
   "source": [
    "from torchinfo import summary\n",
    "from Models.Prompted_models import Prompted_ViT_B32\n",
    "from Models.L2P_heuristic_model import L2P_ViT_B32\n",
    "from Models.Regular_models import vit_32_specific_classes\n",
    "from util.TOdevice import to_device"
   ]
  },
  {
   "cell_type": "code",
   "execution_count": 2,
   "id": "b364d9f6",
   "metadata": {},
   "outputs": [
    {
     "data": {
      "text/plain": [
       "====================================================================================================\n",
       "Layer (type:depth-idx)                             Output Shape              Param #\n",
       "====================================================================================================\n",
       "Prompted_ViT_B32                                   [16, 10]                  46,848\n",
       "├─VisionTransformer: 1-4                           --                        (recursive)\n",
       "│    └─Conv2d: 2-1                                 [16, 768, 7, 7]           (2,360,064)\n",
       "│    └─Encoder: 2-3                                --                        (recursive)\n",
       "│    │    └─Dropout: 3-1                           [16, 50, 768]             --\n",
       "├─Identity: 1-2                                    [1, 10, 768]              --\n",
       "├─Dropout: 1-3                                     [16, 10, 768]             --\n",
       "├─VisionTransformer: 1-4                           --                        (recursive)\n",
       "│    └─Encoder: 2-3                                --                        (recursive)\n",
       "│    │    └─Sequential: 3-2                        [16, 60, 768]             (85,054,464)\n",
       "│    │    └─LayerNorm: 3-3                         [16, 60, 768]             (1,536)\n",
       "│    └─Sequential: 2-4                             [16, 1000]                --\n",
       "│    │    └─Linear: 3-4                            [16, 1000]                (769,000)\n",
       "├─Sequential: 1-5                                  [16, 10]                  --\n",
       "│    └─Linear: 2-5                                 [16, 512]                 512,512\n",
       "│    └─Dropout: 2-6                                [16, 512]                 --\n",
       "│    └─Linear: 2-7                                 [16, 10]                  5,130\n",
       "====================================================================================================\n",
       "Total params: 88,749,554\n",
       "Trainable params: 525,322\n",
       "Non-trainable params: 88,224,232\n",
       "Total mult-adds (G): 2.78\n",
       "====================================================================================================\n",
       "Input size (MB): 9.63\n",
       "Forward/backward pass size (MB): 506.36\n",
       "Params size (MB): 241.42\n",
       "Estimated Total Size (MB): 757.41\n",
       "===================================================================================================="
      ]
     },
     "execution_count": 2,
     "metadata": {},
     "output_type": "execute_result"
    }
   ],
   "source": [
    "#Prompted_tunning ViT_B32\n",
    "prompted_model = to_device(Prompted_ViT_B32(weight_init='random', \n",
    "                                            prompt_method='shallow', \n",
    "                                            num_tokens=10, \n",
    "                                            num_classes=10), 'cuda')\n",
    "summary(prompted_model, input_size=(16, 3, 224, 224))"
   ]
  },
  {
   "cell_type": "code",
   "execution_count": 3,
   "id": "2e7cdac0",
   "metadata": {},
   "outputs": [
    {
     "data": {
      "text/plain": [
       "====================================================================================================\n",
       "Layer (type:depth-idx)                             Output Shape              Param #\n",
       "====================================================================================================\n",
       "vit_32_specific_classes                            [16, 10]                  --\n",
       "├─VisionTransformer: 1-1                           [16, 1000]                768\n",
       "│    └─Conv2d: 2-1                                 [16, 768, 7, 7]           2,360,064\n",
       "│    └─Encoder: 2-2                                [16, 50, 768]             38,400\n",
       "│    │    └─Dropout: 3-1                           [16, 50, 768]             --\n",
       "│    │    └─Sequential: 3-2                        [16, 50, 768]             85,054,464\n",
       "│    │    └─LayerNorm: 3-3                         [16, 50, 768]             1,536\n",
       "│    └─Sequential: 2-3                             [16, 1000]                --\n",
       "│    │    └─Linear: 3-4                            [16, 1000]                769,000\n",
       "├─Sequential: 1-2                                  [16, 10]                  --\n",
       "│    └─Linear: 2-4                                 [16, 512]                 512,512\n",
       "│    └─Dropout: 2-5                                [16, 512]                 --\n",
       "│    └─Linear: 2-6                                 [16, 10]                  5,130\n",
       "====================================================================================================\n",
       "Total params: 88,741,874\n",
       "Trainable params: 88,741,874\n",
       "Non-trainable params: 0\n",
       "Total mult-adds (G): 2.78\n",
       "====================================================================================================\n",
       "Input size (MB): 9.63\n",
       "Forward/backward pass size (MB): 422.80\n",
       "Params size (MB): 241.42\n",
       "Estimated Total Size (MB): 673.85\n",
       "===================================================================================================="
      ]
     },
     "execution_count": 3,
     "metadata": {},
     "output_type": "execute_result"
    }
   ],
   "source": [
    "#Full-model tuning ViT_B32\n",
    "regular_model = to_device(vit_32_specific_classes(num_classes=10), 'cuda')\n",
    "summary(regular_model, input_size=(16, 3, 224, 224))"
   ]
  },
  {
   "cell_type": "code",
   "execution_count": 6,
   "id": "09d56356",
   "metadata": {},
   "outputs": [
    {
     "data": {
      "text/plain": [
       "=========================================================================================================\n",
       "Layer (type:depth-idx)                                  Output Shape              Param #\n",
       "=========================================================================================================\n",
       "L2P_ViT_B32                                             --                        768\n",
       "├─VisionTransformer: 1-3                                --                        (recursive)\n",
       "│    └─Conv2d: 2-1                                      [16, 768, 7, 7]           (2,360,064)\n",
       "│    └─Encoder: 2-2                                     [16, 50, 768]             38,400\n",
       "│    │    └─Dropout: 3-1                                [16, 50, 768]             --\n",
       "│    │    └─Sequential: 3-2                             [16, 50, 768]             (85,054,464)\n",
       "│    │    └─LayerNorm: 3-3                              [16, 50, 768]             (1,536)\n",
       "│    └─Conv2d: 2-3                                      [16, 768, 7, 7]           (recursive)\n",
       "├─Pool: 1-2                                             --                        15,360\n",
       "│    └─Dropout: 2-4                                     [16, 768]                 --\n",
       "│    └─Linear: 2-5                                      [16, 768]                 589,824\n",
       "├─VisionTransformer: 1-3                                --                        (recursive)\n",
       "│    └─Encoder: 2-6                                     --                        (recursive)\n",
       "│    │    └─Dropout: 3-4                                [16, 50, 768]             --\n",
       "│    │    └─Dropout: 3-5                                [16, 60, 768]             --\n",
       "│    │    └─Sequential: 3-6                             [16, 60, 768]             (recursive)\n",
       "│    │    └─LayerNorm: 3-7                              [16, 60, 768]             (recursive)\n",
       "│    └─Sequential: 2-7                                  [16, 1000]                --\n",
       "│    │    └─Linear: 3-8                                 [16, 1000]                (769,000)\n",
       "├─Sequential: 1-4                                       [16, 10]                  --\n",
       "│    └─Linear: 2-8                                      [16, 512]                 512,512\n",
       "│    └─Dropout: 2-9                                     [16, 512]                 --\n",
       "│    └─Linear: 2-10                                     [16, 10]                  5,130\n",
       "=========================================================================================================\n",
       "Total params: 89,347,058\n",
       "Trainable params: 1,122,826\n",
       "Non-trainable params: 88,224,232\n",
       "Total mult-adds (G): 5.55\n",
       "=========================================================================================================\n",
       "Input size (MB): 9.63\n",
       "Forward/backward pass size (MB): 929.07\n",
       "Params size (MB): 243.78\n",
       "Estimated Total Size (MB): 1182.48\n",
       "========================================================================================================="
      ]
     },
     "execution_count": 6,
     "metadata": {},
     "output_type": "execute_result"
    }
   ],
   "source": [
    "#L2P heuristic model\n",
    "L2P_model = to_device(L2P_ViT_B32(prompt_method='shallow',\n",
    "                                     batchwise_prompt=True,\n",
    "                                     pool_size=20,\n",
    "                                     top_k=10,\n",
    "                                     num_classes=10), 'cuda')\n",
    "summary(L2P_model, input_size=(16, 3, 224, 224))"
   ]
  },
  {
   "cell_type": "code",
   "execution_count": null,
   "id": "578920a1",
   "metadata": {},
   "outputs": [],
   "source": []
  }
 ],
 "metadata": {
  "kernelspec": {
   "display_name": "Python 3 (ipykernel)",
   "language": "python",
   "name": "python3"
  },
  "language_info": {
   "codemirror_mode": {
    "name": "ipython",
    "version": 3
   },
   "file_extension": ".py",
   "mimetype": "text/x-python",
   "name": "python",
   "nbconvert_exporter": "python",
   "pygments_lexer": "ipython3",
   "version": "3.10.12"
  },
  "toc": {
   "base_numbering": 1,
   "nav_menu": {},
   "number_sections": true,
   "sideBar": true,
   "skip_h1_title": false,
   "title_cell": "Table of Contents",
   "title_sidebar": "Contents",
   "toc_cell": false,
   "toc_position": {},
   "toc_section_display": true,
   "toc_window_display": false
  }
 },
 "nbformat": 4,
 "nbformat_minor": 5
}
