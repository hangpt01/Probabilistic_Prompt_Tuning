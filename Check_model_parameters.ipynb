{
 "cells": [
  {
   "cell_type": "code",
   "execution_count": 9,
   "id": "f4573b8c",
   "metadata": {},
   "outputs": [],
   "source": [
    "from torchinfo import summary\n",
    "from Models.Prompted_models import Prompted_ViT_B32\n",
    "from Models.L2P_heuristic_model import L2P_ViT_B32\n",
    "from Models.Regular_models import vit_32_specific_classes\n",
    "from util.TOdevice import to_device"
   ]
  },
  {
   "cell_type": "code",
   "execution_count": 10,
   "id": "b364d9f6",
   "metadata": {},
   "outputs": [
    {
     "data": {
      "text/plain": [
       "====================================================================================================\n",
       "Layer (type:depth-idx)                             Output Shape              Param #\n",
       "====================================================================================================\n",
       "Prompted_ViT_B32                                   [256, 10]                 46,848\n",
       "├─VisionTransformer: 1-4                           --                        (recursive)\n",
       "│    └─Conv2d: 2-1                                 [256, 768, 7, 7]          (2,360,064)\n",
       "│    └─Encoder: 2-3                                --                        (recursive)\n",
       "│    │    └─Dropout: 3-1                           [256, 50, 768]            --\n",
       "├─Identity: 1-2                                    [1, 10, 768]              --\n",
       "├─Dropout: 1-3                                     [256, 10, 768]            --\n",
       "├─VisionTransformer: 1-4                           --                        (recursive)\n",
       "│    └─Encoder: 2-3                                --                        (recursive)\n",
       "│    │    └─Sequential: 3-2                        [256, 60, 768]            (85,054,464)\n",
       "│    │    └─LayerNorm: 3-3                         [256, 60, 768]            (1,536)\n",
       "│    └─Sequential: 2-4                             [256, 1000]               --\n",
       "│    │    └─Linear: 3-4                            [256, 1000]               (769,000)\n",
       "├─Sequential: 1-5                                  [256, 10]                 --\n",
       "│    └─Linear: 2-5                                 [256, 512]                512,512\n",
       "│    └─Dropout: 2-6                                [256, 512]                --\n",
       "│    └─Linear: 2-7                                 [256, 10]                 5,130\n",
       "====================================================================================================\n",
       "Total params: 88,749,554\n",
       "Trainable params: 525,322\n",
       "Non-trainable params: 88,224,232\n",
       "Total mult-adds (G): 44.45\n",
       "====================================================================================================\n",
       "Input size (MB): 154.14\n",
       "Forward/backward pass size (MB): 8101.79\n",
       "Params size (MB): 241.42\n",
       "Estimated Total Size (MB): 8497.35\n",
       "===================================================================================================="
      ]
     },
     "execution_count": 10,
     "metadata": {},
     "output_type": "execute_result"
    }
   ],
   "source": [
    "#Prompted_tunning ViT_B32\n",
    "prompted_model = to_device(Prompted_ViT_B32(weight_init='random', \n",
    "                                            prompt_method='shallow', \n",
    "                                            num_tokens=10, \n",
    "                                            num_classes=10), 'cuda')\n",
    "summary(prompted_model, input_size=(256, 3, 224, 224))"
   ]
  },
  {
   "cell_type": "code",
   "execution_count": 11,
   "id": "2e7cdac0",
   "metadata": {},
   "outputs": [
    {
     "data": {
      "text/plain": [
       "====================================================================================================\n",
       "Layer (type:depth-idx)                             Output Shape              Param #\n",
       "====================================================================================================\n",
       "vit_32_specific_classes                            [256, 10]                 --\n",
       "├─VisionTransformer: 1-1                           [256, 1000]               768\n",
       "│    └─Conv2d: 2-1                                 [256, 768, 7, 7]          2,360,064\n",
       "│    └─Encoder: 2-2                                [256, 50, 768]            38,400\n",
       "│    │    └─Dropout: 3-1                           [256, 50, 768]            --\n",
       "│    │    └─Sequential: 3-2                        [256, 50, 768]            85,054,464\n",
       "│    │    └─LayerNorm: 3-3                         [256, 50, 768]            1,536\n",
       "│    └─Sequential: 2-3                             [256, 1000]               --\n",
       "│    │    └─Linear: 3-4                            [256, 1000]               769,000\n",
       "├─Sequential: 1-2                                  [256, 10]                 --\n",
       "│    └─Linear: 2-4                                 [256, 512]                512,512\n",
       "│    └─Dropout: 2-5                                [256, 512]                --\n",
       "│    └─Linear: 2-6                                 [256, 10]                 5,130\n",
       "====================================================================================================\n",
       "Total params: 88,741,874\n",
       "Trainable params: 88,741,874\n",
       "Non-trainable params: 0\n",
       "Total mult-adds (G): 44.45\n",
       "====================================================================================================\n",
       "Input size (MB): 154.14\n",
       "Forward/backward pass size (MB): 6764.86\n",
       "Params size (MB): 241.42\n",
       "Estimated Total Size (MB): 7160.42\n",
       "===================================================================================================="
      ]
     },
     "execution_count": 11,
     "metadata": {},
     "output_type": "execute_result"
    }
   ],
   "source": [
    "#Full-model tuning ViT_B32\n",
    "regular_model = to_device(vit_32_specific_classes(num_classes=10), 'cuda')\n",
    "summary(regular_model, input_size=(256, 3, 224, 224))"
   ]
  },
  {
   "cell_type": "code",
   "execution_count": 6,
   "id": "09d56356",
   "metadata": {},
   "outputs": [
    {
     "data": {
      "text/plain": [
       "=========================================================================================================\n",
       "Layer (type:depth-idx)                                  Output Shape              Param #\n",
       "=========================================================================================================\n",
       "L2P_ViT_B32                                             --                        768\n",
       "├─VisionTransformer: 1-3                                --                        (recursive)\n",
       "│    └─Conv2d: 2-1                                      [16, 768, 7, 7]           (2,360,064)\n",
       "│    └─Encoder: 2-2                                     [16, 50, 768]             38,400\n",
       "│    │    └─Dropout: 3-1                                [16, 50, 768]             --\n",
       "│    │    └─Sequential: 3-2                             [16, 50, 768]             (85,054,464)\n",
       "│    │    └─LayerNorm: 3-3                              [16, 50, 768]             (1,536)\n",
       "│    └─Conv2d: 2-3                                      [16, 768, 7, 7]           (recursive)\n",
       "├─Pool: 1-2                                             --                        15,360\n",
       "│    └─Dropout: 2-4                                     [16, 768]                 --\n",
       "│    └─Linear: 2-5                                      [16, 768]                 589,824\n",
       "├─VisionTransformer: 1-3                                --                        (recursive)\n",
       "│    └─Encoder: 2-6                                     --                        (recursive)\n",
       "│    │    └─Dropout: 3-4                                [16, 50, 768]             --\n",
       "│    │    └─Dropout: 3-5                                [16, 60, 768]             --\n",
       "│    │    └─Sequential: 3-6                             [16, 60, 768]             (recursive)\n",
       "│    │    └─LayerNorm: 3-7                              [16, 60, 768]             (recursive)\n",
       "│    └─Sequential: 2-7                                  [16, 1000]                --\n",
       "│    │    └─Linear: 3-8                                 [16, 1000]                (769,000)\n",
       "├─Sequential: 1-4                                       [16, 10]                  --\n",
       "│    └─Linear: 2-8                                      [16, 512]                 512,512\n",
       "│    └─Dropout: 2-9                                     [16, 512]                 --\n",
       "│    └─Linear: 2-10                                     [16, 10]                  5,130\n",
       "=========================================================================================================\n",
       "Total params: 89,347,058\n",
       "Trainable params: 1,122,826\n",
       "Non-trainable params: 88,224,232\n",
       "Total mult-adds (G): 5.55\n",
       "=========================================================================================================\n",
       "Input size (MB): 9.63\n",
       "Forward/backward pass size (MB): 929.07\n",
       "Params size (MB): 243.78\n",
       "Estimated Total Size (MB): 1182.48\n",
       "========================================================================================================="
      ]
     },
     "execution_count": 6,
     "metadata": {},
     "output_type": "execute_result"
    }
   ],
   "source": [
    "#L2P heuristic model\n",
    "L2P_model = to_device(L2P_ViT_B32(prompt_method='shallow',\n",
    "                                     batchwise_prompt=True,\n",
    "                                     pool_size=20,\n",
    "                                     top_k=10,\n",
    "                                     num_classes=10), 'cuda')\n",
    "summary(L2P_model, input_size=(16, 3, 224, 224))"
   ]
  },
  {
   "cell_type": "code",
   "execution_count": 7,
   "id": "578920a1",
   "metadata": {},
   "outputs": [
    {
     "name": "stdout",
     "output_type": "stream",
     "text": [
      "(1)\n"
     ]
    }
   ],
   "source": [
    "instance_label =1\n",
    "print(f'({instance_label})')"
   ]
  },
  {
   "cell_type": "code",
   "execution_count": 8,
   "id": "ec1155db",
   "metadata": {},
   "outputs": [
    {
     "name": "stderr",
     "output_type": "stream",
     "text": [
      "/tmp/ipykernel_3781465/3366080571.py:3: TqdmDeprecationWarning: This function will be removed in tqdm==5.0.0\n",
      "Please use `tqdm.std.*` instead of `tqdm._tqdm.*`\n",
      "  from tqdm._tqdm import trange\n",
      "  1%|▉                                                                                              | 1/100 [00:00<00:09,  9.98it/s]"
     ]
    },
    {
     "name": "stdout",
     "output_type": "stream",
     "text": [
      "0\n",
      "1\n"
     ]
    },
    {
     "name": "stderr",
     "output_type": "stream",
     "text": [
      "  3%|██▊                                                                                            | 3/100 [00:00<00:09,  9.94it/s]"
     ]
    },
    {
     "name": "stdout",
     "output_type": "stream",
     "text": [
      "2\n",
      "3\n"
     ]
    },
    {
     "name": "stderr",
     "output_type": "stream",
     "text": [
      "  5%|████▊                                                                                          | 5/100 [00:00<00:09,  9.92it/s]"
     ]
    },
    {
     "name": "stdout",
     "output_type": "stream",
     "text": [
      "4\n",
      "5\n"
     ]
    },
    {
     "name": "stderr",
     "output_type": "stream",
     "text": [
      "  7%|██████▋                                                                                        | 7/100 [00:00<00:09,  9.91it/s]"
     ]
    },
    {
     "name": "stdout",
     "output_type": "stream",
     "text": [
      "6\n",
      "7\n"
     ]
    },
    {
     "name": "stderr",
     "output_type": "stream",
     "text": [
      "  9%|████████▌                                                                                      | 9/100 [00:00<00:09,  9.90it/s]"
     ]
    },
    {
     "name": "stdout",
     "output_type": "stream",
     "text": [
      "8\n",
      "9\n"
     ]
    },
    {
     "name": "stderr",
     "output_type": "stream",
     "text": [
      " 11%|██████████▎                                                                                   | 11/100 [00:01<00:08,  9.90it/s]"
     ]
    },
    {
     "name": "stdout",
     "output_type": "stream",
     "text": [
      "10\n",
      "11\n"
     ]
    },
    {
     "name": "stderr",
     "output_type": "stream",
     "text": [
      " 13%|████████████▏                                                                                 | 13/100 [00:01<00:08,  9.90it/s]"
     ]
    },
    {
     "name": "stdout",
     "output_type": "stream",
     "text": [
      "12\n",
      "13\n"
     ]
    },
    {
     "name": "stderr",
     "output_type": "stream",
     "text": [
      " 15%|██████████████                                                                                | 15/100 [00:01<00:08,  9.90it/s]"
     ]
    },
    {
     "name": "stdout",
     "output_type": "stream",
     "text": [
      "14\n",
      "15\n"
     ]
    },
    {
     "name": "stderr",
     "output_type": "stream",
     "text": [
      " 17%|███████████████▉                                                                              | 17/100 [00:01<00:08,  9.91it/s]"
     ]
    },
    {
     "name": "stdout",
     "output_type": "stream",
     "text": [
      "16\n",
      "17\n"
     ]
    },
    {
     "name": "stderr",
     "output_type": "stream",
     "text": [
      " 19%|█████████████████▊                                                                            | 19/100 [00:01<00:08,  9.91it/s]"
     ]
    },
    {
     "name": "stdout",
     "output_type": "stream",
     "text": [
      "18\n",
      "19\n"
     ]
    },
    {
     "name": "stderr",
     "output_type": "stream",
     "text": [
      " 21%|███████████████████▋                                                                          | 21/100 [00:02<00:07,  9.91it/s]"
     ]
    },
    {
     "name": "stdout",
     "output_type": "stream",
     "text": [
      "20\n",
      "21\n"
     ]
    },
    {
     "name": "stderr",
     "output_type": "stream",
     "text": [
      " 23%|█████████████████████▌                                                                        | 23/100 [00:02<00:07,  9.91it/s]"
     ]
    },
    {
     "name": "stdout",
     "output_type": "stream",
     "text": [
      "22\n",
      "23\n"
     ]
    },
    {
     "name": "stderr",
     "output_type": "stream",
     "text": [
      " 25%|███████████████████████▌                                                                      | 25/100 [00:02<00:07,  9.91it/s]"
     ]
    },
    {
     "name": "stdout",
     "output_type": "stream",
     "text": [
      "24\n",
      "25\n"
     ]
    },
    {
     "name": "stderr",
     "output_type": "stream",
     "text": [
      " 27%|█████████████████████████▍                                                                    | 27/100 [00:02<00:07,  9.91it/s]"
     ]
    },
    {
     "name": "stdout",
     "output_type": "stream",
     "text": [
      "26\n",
      "27\n"
     ]
    },
    {
     "name": "stderr",
     "output_type": "stream",
     "text": [
      " 29%|███████████████████████████▎                                                                  | 29/100 [00:02<00:07,  9.91it/s]"
     ]
    },
    {
     "name": "stdout",
     "output_type": "stream",
     "text": [
      "28\n",
      "29\n"
     ]
    },
    {
     "name": "stderr",
     "output_type": "stream",
     "text": [
      " 31%|█████████████████████████████▏                                                                | 31/100 [00:03<00:06,  9.90it/s]"
     ]
    },
    {
     "name": "stdout",
     "output_type": "stream",
     "text": [
      "30\n",
      "31\n"
     ]
    },
    {
     "name": "stderr",
     "output_type": "stream",
     "text": [
      " 33%|███████████████████████████████                                                               | 33/100 [00:03<00:06,  9.91it/s]"
     ]
    },
    {
     "name": "stdout",
     "output_type": "stream",
     "text": [
      "32\n",
      "33\n"
     ]
    },
    {
     "name": "stderr",
     "output_type": "stream",
     "text": [
      " 36%|█████████████████████████████████▊                                                            | 36/100 [00:03<00:06,  9.92it/s]"
     ]
    },
    {
     "name": "stdout",
     "output_type": "stream",
     "text": [
      "34\n",
      "35\n"
     ]
    },
    {
     "name": "stderr",
     "output_type": "stream",
     "text": [
      "\r",
      " 37%|██████████████████████████████████▊                                                           | 37/100 [00:03<00:06,  9.91it/s]"
     ]
    },
    {
     "name": "stdout",
     "output_type": "stream",
     "text": [
      "36\n",
      "37\n"
     ]
    },
    {
     "name": "stderr",
     "output_type": "stream",
     "text": [
      " 39%|████████████████████████████████████▋                                                         | 39/100 [00:03<00:06,  9.91it/s]"
     ]
    },
    {
     "name": "stdout",
     "output_type": "stream",
     "text": [
      "38\n",
      "39\n"
     ]
    },
    {
     "name": "stderr",
     "output_type": "stream",
     "text": [
      " 41%|██████████████████████████████████████▌                                                       | 41/100 [00:04<00:05,  9.90it/s]"
     ]
    },
    {
     "name": "stdout",
     "output_type": "stream",
     "text": [
      "40\n",
      "41\n"
     ]
    },
    {
     "name": "stderr",
     "output_type": "stream",
     "text": [
      " 43%|████████████████████████████████████████▍                                                     | 43/100 [00:04<00:05,  9.90it/s]"
     ]
    },
    {
     "name": "stdout",
     "output_type": "stream",
     "text": [
      "42\n",
      "43\n"
     ]
    },
    {
     "name": "stderr",
     "output_type": "stream",
     "text": [
      " 45%|██████████████████████████████████████████▎                                                   | 45/100 [00:04<00:05,  9.90it/s]"
     ]
    },
    {
     "name": "stdout",
     "output_type": "stream",
     "text": [
      "44\n",
      "45\n"
     ]
    },
    {
     "name": "stderr",
     "output_type": "stream",
     "text": [
      " 47%|████████████████████████████████████████████▏                                                 | 47/100 [00:04<00:05,  9.90it/s]"
     ]
    },
    {
     "name": "stdout",
     "output_type": "stream",
     "text": [
      "46\n",
      "47\n"
     ]
    },
    {
     "name": "stderr",
     "output_type": "stream",
     "text": [
      " 49%|██████████████████████████████████████████████                                                | 49/100 [00:04<00:05,  9.90it/s]"
     ]
    },
    {
     "name": "stdout",
     "output_type": "stream",
     "text": [
      "48\n",
      "49\n"
     ]
    },
    {
     "name": "stderr",
     "output_type": "stream",
     "text": [
      " 51%|███████████████████████████████████████████████▉                                              | 51/100 [00:05<00:04,  9.90it/s]"
     ]
    },
    {
     "name": "stdout",
     "output_type": "stream",
     "text": [
      "50\n",
      "51\n"
     ]
    },
    {
     "name": "stderr",
     "output_type": "stream",
     "text": [
      " 53%|█████████████████████████████████████████████████▊                                            | 53/100 [00:05<00:04,  9.90it/s]"
     ]
    },
    {
     "name": "stdout",
     "output_type": "stream",
     "text": [
      "52\n",
      "53\n"
     ]
    },
    {
     "name": "stderr",
     "output_type": "stream",
     "text": [
      " 55%|███████████████████████████████████████████████████▋                                          | 55/100 [00:05<00:04,  9.90it/s]"
     ]
    },
    {
     "name": "stdout",
     "output_type": "stream",
     "text": [
      "54\n",
      "55\n"
     ]
    },
    {
     "name": "stderr",
     "output_type": "stream",
     "text": [
      " 57%|█████████████████████████████████████████████████████▌                                        | 57/100 [00:05<00:04,  9.90it/s]"
     ]
    },
    {
     "name": "stdout",
     "output_type": "stream",
     "text": [
      "56\n",
      "57\n"
     ]
    },
    {
     "name": "stderr",
     "output_type": "stream",
     "text": [
      " 59%|███████████████████████████████████████████████████████▍                                      | 59/100 [00:05<00:04,  9.90it/s]"
     ]
    },
    {
     "name": "stdout",
     "output_type": "stream",
     "text": [
      "58\n",
      "59\n"
     ]
    },
    {
     "name": "stderr",
     "output_type": "stream",
     "text": [
      " 61%|█████████████████████████████████████████████████████████▎                                    | 61/100 [00:06<00:03,  9.90it/s]"
     ]
    },
    {
     "name": "stdout",
     "output_type": "stream",
     "text": [
      "60\n",
      "61\n"
     ]
    },
    {
     "name": "stderr",
     "output_type": "stream",
     "text": [
      " 63%|███████████████████████████████████████████████████████████▏                                  | 63/100 [00:06<00:03,  9.90it/s]"
     ]
    },
    {
     "name": "stdout",
     "output_type": "stream",
     "text": [
      "62\n",
      "63\n"
     ]
    },
    {
     "name": "stderr",
     "output_type": "stream",
     "text": [
      " 65%|█████████████████████████████████████████████████████████████                                 | 65/100 [00:06<00:03,  9.90it/s]"
     ]
    },
    {
     "name": "stdout",
     "output_type": "stream",
     "text": [
      "64\n",
      "65\n"
     ]
    },
    {
     "name": "stderr",
     "output_type": "stream",
     "text": [
      " 67%|██████████████████████████████████████████████████████████████▉                               | 67/100 [00:06<00:03,  9.90it/s]"
     ]
    },
    {
     "name": "stdout",
     "output_type": "stream",
     "text": [
      "66\n",
      "67\n"
     ]
    },
    {
     "name": "stderr",
     "output_type": "stream",
     "text": [
      " 70%|█████████████████████████████████████████████████████████████████▊                            | 70/100 [00:07<00:03,  9.92it/s]"
     ]
    },
    {
     "name": "stdout",
     "output_type": "stream",
     "text": [
      "68\n",
      "69\n"
     ]
    },
    {
     "name": "stderr",
     "output_type": "stream",
     "text": [
      "\r",
      " 71%|██████████████████████████████████████████████████████████████████▋                           | 71/100 [00:07<00:02,  9.92it/s]"
     ]
    },
    {
     "name": "stdout",
     "output_type": "stream",
     "text": [
      "70\n",
      "71\n"
     ]
    },
    {
     "name": "stderr",
     "output_type": "stream",
     "text": [
      " 73%|████████████████████████████████████████████████████████████████████▌                         | 73/100 [00:07<00:02,  9.90it/s]"
     ]
    },
    {
     "name": "stdout",
     "output_type": "stream",
     "text": [
      "72\n",
      "73\n"
     ]
    },
    {
     "name": "stderr",
     "output_type": "stream",
     "text": [
      " 75%|██████████████████████████████████████████████████████████████████████▌                       | 75/100 [00:07<00:02,  9.90it/s]"
     ]
    },
    {
     "name": "stdout",
     "output_type": "stream",
     "text": [
      "74\n",
      "75\n"
     ]
    },
    {
     "name": "stderr",
     "output_type": "stream",
     "text": [
      " 77%|████████████████████████████████████████████████████████████████████████▍                     | 77/100 [00:07<00:02,  9.90it/s]"
     ]
    },
    {
     "name": "stdout",
     "output_type": "stream",
     "text": [
      "76\n",
      "77\n"
     ]
    },
    {
     "name": "stderr",
     "output_type": "stream",
     "text": [
      " 79%|██████████████████████████████████████████████████████████████████████████▎                   | 79/100 [00:07<00:02,  9.90it/s]"
     ]
    },
    {
     "name": "stdout",
     "output_type": "stream",
     "text": [
      "78\n",
      "79\n"
     ]
    },
    {
     "name": "stderr",
     "output_type": "stream",
     "text": [
      " 81%|████████████████████████████████████████████████████████████████████████████▏                 | 81/100 [00:08<00:01,  9.90it/s]"
     ]
    },
    {
     "name": "stdout",
     "output_type": "stream",
     "text": [
      "80\n",
      "81\n"
     ]
    },
    {
     "name": "stderr",
     "output_type": "stream",
     "text": [
      " 83%|██████████████████████████████████████████████████████████████████████████████                | 83/100 [00:08<00:01,  9.90it/s]"
     ]
    },
    {
     "name": "stdout",
     "output_type": "stream",
     "text": [
      "82\n",
      "83\n"
     ]
    },
    {
     "name": "stderr",
     "output_type": "stream",
     "text": [
      " 85%|███████████████████████████████████████████████████████████████████████████████▉              | 85/100 [00:08<00:01,  9.90it/s]"
     ]
    },
    {
     "name": "stdout",
     "output_type": "stream",
     "text": [
      "84\n",
      "85\n"
     ]
    },
    {
     "name": "stderr",
     "output_type": "stream",
     "text": [
      " 88%|██████████████████████████████████████████████████████████████████████████████████▋           | 88/100 [00:08<00:01,  9.91it/s]"
     ]
    },
    {
     "name": "stdout",
     "output_type": "stream",
     "text": [
      "86\n",
      "87\n"
     ]
    },
    {
     "name": "stderr",
     "output_type": "stream",
     "text": [
      "\r",
      " 89%|███████████████████████████████████████████████████████████████████████████████████▋          | 89/100 [00:08<00:01,  9.91it/s]"
     ]
    },
    {
     "name": "stdout",
     "output_type": "stream",
     "text": [
      "88\n",
      "89\n"
     ]
    },
    {
     "name": "stderr",
     "output_type": "stream",
     "text": [
      " 91%|█████████████████████████████████████████████████████████████████████████████████████▌        | 91/100 [00:09<00:00,  9.91it/s]"
     ]
    },
    {
     "name": "stdout",
     "output_type": "stream",
     "text": [
      "90\n",
      "91\n"
     ]
    },
    {
     "name": "stderr",
     "output_type": "stream",
     "text": [
      " 93%|███████████████████████████████████████████████████████████████████████████████████████▍      | 93/100 [00:09<00:00,  9.90it/s]"
     ]
    },
    {
     "name": "stdout",
     "output_type": "stream",
     "text": [
      "92\n",
      "93\n"
     ]
    },
    {
     "name": "stderr",
     "output_type": "stream",
     "text": [
      " 95%|█████████████████████████████████████████████████████████████████████████████████████████▎    | 95/100 [00:09<00:00,  9.90it/s]"
     ]
    },
    {
     "name": "stdout",
     "output_type": "stream",
     "text": [
      "94\n",
      "95\n"
     ]
    },
    {
     "name": "stderr",
     "output_type": "stream",
     "text": [
      " 97%|███████████████████████████████████████████████████████████████████████████████████████████▏  | 97/100 [00:09<00:00,  9.89it/s]"
     ]
    },
    {
     "name": "stdout",
     "output_type": "stream",
     "text": [
      "96\n",
      "97\n"
     ]
    },
    {
     "name": "stderr",
     "output_type": "stream",
     "text": [
      " 99%|█████████████████████████████████████████████████████████████████████████████████████████████ | 99/100 [00:09<00:00,  9.90it/s]"
     ]
    },
    {
     "name": "stdout",
     "output_type": "stream",
     "text": [
      "98\n",
      "99\n"
     ]
    },
    {
     "name": "stderr",
     "output_type": "stream",
     "text": [
      "100%|█████████████████████████████████████████████████████████████████████████████████████████████| 100/100 [00:10<00:00,  9.90it/s]\n"
     ]
    }
   ],
   "source": [
    "import time\n",
    "from tqdm import tqdm\n",
    "from tqdm._tqdm import trange\n",
    " \n",
    "for j in trange(100):\n",
    "    print(j)\n",
    "    time.sleep(0.1)"
   ]
  },
  {
   "cell_type": "code",
   "execution_count": null,
   "id": "009f097d",
   "metadata": {},
   "outputs": [],
   "source": []
  }
 ],
 "metadata": {
  "kernelspec": {
   "display_name": "Python 3 (ipykernel)",
   "language": "python",
   "name": "python3"
  },
  "language_info": {
   "codemirror_mode": {
    "name": "ipython",
    "version": 3
   },
   "file_extension": ".py",
   "mimetype": "text/x-python",
   "name": "python",
   "nbconvert_exporter": "python",
   "pygments_lexer": "ipython3",
   "version": "3.10.12"
  },
  "toc": {
   "base_numbering": 1,
   "nav_menu": {},
   "number_sections": true,
   "sideBar": true,
   "skip_h1_title": false,
   "title_cell": "Table of Contents",
   "title_sidebar": "Contents",
   "toc_cell": false,
   "toc_position": {},
   "toc_section_display": true,
   "toc_window_display": false
  }
 },
 "nbformat": 4,
 "nbformat_minor": 5
}
